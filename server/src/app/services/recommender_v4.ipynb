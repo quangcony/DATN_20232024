{
 "cells": [
  {
   "cell_type": "code",
   "execution_count": 59,
   "metadata": {},
   "outputs": [],
   "source": [
    "import json\n",
    "import pandas as pd\n",
    "import numpy as np\n",
    "from sklearn.feature_extraction.text import TfidfVectorizer\n",
    "from sklearn.metrics.pairwise import linear_kernel\n",
    "from sklearn.neighbors import NearestNeighbors\n",
    "from sklearn.metrics import precision_score\n",
    "from sklearn.metrics.pairwise import cosine_similarity\n",
    "import matplotlib.pyplot as plt\n",
    "import seaborn as sns\n",
    "from scipy import spatial\n",
    "from wordcloud import WordCloud, STOPWORDS\n",
    "import nltk\n",
    "from nltk.corpus import stopwords"
   ]
  },
  {
   "cell_type": "code",
   "execution_count": 60,
   "metadata": {},
   "outputs": [],
   "source": [
    "# Load user interests from JSON (replace 'your_interests.json' with your JSON file)\n",
    "with open('../data/users.json', 'r', encoding='utf-8') as json_file:\n",
    "    user_data = json.load(json_file)\n",
    "\n",
    "# Load item data from JSON (replace 'your_items.json' with your JSON file)\n",
    "with open('../data/campaigns.json', 'r', encoding='utf-8') as json_file:\n",
    "    items_data = json.load(json_file)\n",
    "\n",
    "with open('../data/interactions.json', 'r', encoding='utf-8') as json_file:\n",
    "    interaction_data = json.load(json_file)\n",
    "\n",
    "user_df = pd.DataFrame(user_data)\n",
    "items_df = pd.DataFrame(items_data)\n",
    "interactions_df = pd.DataFrame(interaction_data)\n"
   ]
  },
  {
   "cell_type": "code",
   "execution_count": 61,
   "metadata": {},
   "outputs": [],
   "source": [
    "items = items_df.merge(interactions_df, left_on='_id', right_on='campaignId', how='left')\n",
    "items = items[['_id', 'genres', 'user', 'status', 'tags']]\n",
    "\n",
    "# items['genres'] = items['genres'].apply(lambda x: ','.join(x))\n",
    "# Convert elements to strings\n",
    "items['genres'] = items['genres'].astype(str)\n",
    "\n",
    "# Remove square brackets and spaces, and split the string into a list\n",
    "items['genres'] = items['genres'].str.strip('[]').str.replace(' ', '').str.replace(\"'\", '').str.split(',')\n",
    "\n",
    "# If you want to strip leading/trailing whitespaces from each genre in the list\n",
    "items['genres'] = items['genres'].apply(lambda x: [genre.strip() for genre in x])\n",
    "\n"
   ]
  },
  {
   "cell_type": "code",
   "execution_count": 62,
   "metadata": {},
   "outputs": [
    {
     "data": {
      "image/png": "[encoded data removed]",
      "text/plain": [
       "<Figure size 1200x1000 with 1 Axes>"
      ]
     },
     "metadata": {},
     "output_type": "display_data"
    }
   ],
   "source": [
    "plt.subplots(figsize=(12,10))\n",
    "list1 = []\n",
    "for i in items['genres']:\n",
    "    list1.extend(i)\n",
    "ax = pd.Series(list1).value_counts()[:10].sort_values(ascending=True).plot.barh(width=0.9,color=sns.color_palette('hls',10))\n",
    "for i, v in enumerate(pd.Series(list1).value_counts()[:10].sort_values(ascending=True).values): \n",
    "    ax.text(.8, i, v,fontsize=12,color='white',weight='bold')\n",
    "plt.title('Top Genres')\n",
    "plt.show()"
   ]
  },
  {
   "cell_type": "code",
   "execution_count": 63,
   "metadata": {},
   "outputs": [
    {
     "data": {
      "text/plain": [
       "['education', 'community', 'medical', 'child', 'technology']"
      ]
     },
     "execution_count": 63,
     "metadata": {},
     "output_type": "execute_result"
    }
   ],
   "source": [
    "# genresList with unique genres\n",
    "genreList = []\n",
    "for index, row in items.iterrows():\n",
    "    genres = row[\"genres\"]\n",
    "    \n",
    "    for genre in genres:\n",
    "        if genre not in genreList:\n",
    "            genreList.append(genre)\n",
    "genreList[:10] #now we have a list with unique genres"
   ]
  },
  {
   "cell_type": "code",
   "execution_count": 64,
   "metadata": {},
   "outputs": [],
   "source": [
    "# One hot Encoding for multiple labels\n",
    "def binary(genre_list):\n",
    "    binaryList = []\n",
    "    \n",
    "    for genre in genreList:\n",
    "        if genre in genre_list:\n",
    "            binaryList.append(1)\n",
    "        else:\n",
    "            binaryList.append(0)\n",
    "    \n",
    "    return binaryList"
   ]
  },
  {
   "cell_type": "code",
   "execution_count": 65,
   "metadata": {},
   "outputs": [
    {
     "data": {
      "text/plain": [
       "0    [1, 0, 0, 0, 0]\n",
       "1    [0, 1, 0, 0, 0]\n",
       "2    [0, 1, 0, 0, 0]\n",
       "3    [1, 1, 0, 0, 0]\n",
       "4    [1, 1, 0, 0, 0]\n",
       "Name: genres_bin, dtype: object"
      ]
     },
     "execution_count": 65,
     "metadata": {},
     "output_type": "execute_result"
    }
   ],
   "source": [
    "items['genres_bin'] = items['genres'].apply(lambda x: binary(x))\n",
    "items['genres_bin'].head()"
   ]
  },
  {
   "cell_type": "code",
   "execution_count": null,
   "metadata": {},
   "outputs": [],
   "source": []
  },
  {
   "cell_type": "code",
   "execution_count": 71,
   "metadata": {},
   "outputs": [],
   "source": [
    "def Similarity(item1, item2):\n",
    "    a = items.iloc[item1]\n",
    "    b = items.iloc[item2]\n",
    "    \n",
    "    genresA = a['genres_bin']\n",
    "    genresB = b['genres_bin']\n",
    "    \n",
    "    genreDistance = spatial.distance.cosine(genresA, genresB)\n",
    "\n",
    "    return genreDistance"
   ]
  },
  {
   "cell_type": "code",
   "execution_count": 73,
   "metadata": {},
   "outputs": [
    {
     "name": "stdout",
     "output_type": "stream",
     "text": [
      "_id           6598e133c4ba9e96ba6fc5d6\n",
      "genres                     [community]\n",
      "user          64e807313dae5c7f6bf58b76\n",
      "status                             1.0\n",
      "tags                           [treem]\n",
      "genres_bin             [0, 1, 0, 0, 0]\n",
      "words_bin              [0, 0, 0, 0, 0]\n",
      "Name: 1, dtype: object\n",
      "_id           6599425fe3e75cddc1a4884b\n",
      "genres          [community, education]\n",
      "user          64e807313dae5c7f6bf58b76\n",
      "status                             1.0\n",
      "tags                [startup, giadinh]\n",
      "genres_bin             [1, 1, 0, 0, 0]\n",
      "words_bin              [0, 0, 0, 0, 0]\n",
      "Name: 4, dtype: object\n"
     ]
    }
   ],
   "source": [
    "Similarity(1, 4)\n",
    "\n",
    "print(items.iloc[1])\n",
    "print(items.iloc[4])\n"
   ]
  },
  {
   "cell_type": "code",
   "execution_count": 68,
   "metadata": {},
   "outputs": [],
   "source": [
    "# target_user_id = '650a5c3a0057dfad70f707a9'\n",
    "# recommendations = get_hybrid_recommendations(target_user_id)\n",
    "# # Print recommended items\n",
    "# for item in recommendations:\n",
    "#     print(f\"Item ID: {item['_id']}, Genres: {item['genres']}\")"
   ]
  }
 ],
 "metadata": {
  "kernelspec": {
   "display_name": "Python 3",
   "language": "python",
   "name": "python3"
  },
  "language_info": {
   "codemirror_mode": {
    "name": "ipython",
    "version": 3
   },
   "file_extension": ".py",
   "mimetype": "text/x-python",
   "name": "python",
   "nbconvert_exporter": "python",
   "pygments_lexer": "ipython3",
   "version": "3.11.5"
  }
 },
 "nbformat": 4,
 "nbformat_minor": 2
}
