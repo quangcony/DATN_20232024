{
 "cells": [
  {
   "cell_type": "code",
   "execution_count": 31,
   "metadata": {},
   "outputs": [],
   "source": [
    "import pandas as pd\n",
    "import json\n",
    "from sklearn.metrics.pairwise import cosine_similarity\n",
    "from sklearn.feature_extraction.text import TfidfVectorizer\n",
    "from collections import defaultdict\n",
    "from operator import itemgetter"
   ]
  },
  {
   "cell_type": "code",
   "execution_count": 32,
   "metadata": {},
   "outputs": [],
   "source": [
    "# Load user interests from JSON (replace 'your_interests.json' with your JSON file)\n",
    "with open('../data/users.json', 'r', encoding='utf-8') as json_file:\n",
    "    user_data = json.load(json_file)\n",
    "\n",
    "# Load item data from JSON (replace 'your_items.json' with your JSON file)\n",
    "with open('../data/campaigns.json', 'r', encoding='utf-8') as json_file:\n",
    "    item_data = json.load(json_file)\n",
    "\n",
    "# Load item data from JSON (replace 'your_items.json' with your JSON file)\n",
    "with open('../data/interactions.json', 'r', encoding='utf-8') as json_file:\n",
    "    interaction_data = json.load(json_file)"
   ]
  },
  {
   "cell_type": "code",
   "execution_count": 33,
   "metadata": {},
   "outputs": [],
   "source": [
    "# Chuyển đổi dữ liệu user_data và item_data thành DataFrame\n",
    "user_df = pd.DataFrame(user_data)\n",
    "item_df = pd.DataFrame(item_data)\n",
    "# Tạo DataFrame từ interactions_data\n",
    "interactions_df = pd.DataFrame(interaction_data)"
   ]
  },
  {
   "cell_type": "code",
   "execution_count": 34,
   "metadata": {},
   "outputs": [
    {
     "ename": "TypeError",
     "evalue": "'set' object does not support item assignment",
     "output_type": "error",
     "traceback": [
      "\u001b[1;31m---------------------------------------------------------------------------\u001b[0m",
      "\u001b[1;31mTypeError\u001b[0m                                 Traceback (most recent call last)",
      "Cell \u001b[1;32mIn[34], line 5\u001b[0m\n\u001b[0;32m      3\u001b[0m \u001b[38;5;28;01mfor\u001b[39;00m interaction \u001b[38;5;129;01min\u001b[39;00m interaction_data:\n\u001b[0;32m      4\u001b[0m     user_id, item_id, rating \u001b[38;5;241m=\u001b[39m interaction[\u001b[38;5;124m'\u001b[39m\u001b[38;5;124muser_id\u001b[39m\u001b[38;5;124m'\u001b[39m], interaction[\u001b[38;5;124m'\u001b[39m\u001b[38;5;124mitem_id\u001b[39m\u001b[38;5;124m'\u001b[39m], interaction[\u001b[38;5;124m'\u001b[39m\u001b[38;5;124minteraction\u001b[39m\u001b[38;5;124m'\u001b[39m]\n\u001b[1;32m----> 5\u001b[0m     \u001b[43minteraction_matrix\u001b[49m\u001b[43m[\u001b[49m\u001b[43muser_id\u001b[49m\u001b[43m]\u001b[49m\u001b[43m[\u001b[49m\u001b[43mitem_id\u001b[49m\u001b[43m]\u001b[49m \u001b[38;5;241m=\u001b[39m rating\n\u001b[0;32m      7\u001b[0m \u001b[38;5;66;03m# Tạo ma trận sở thích người dùng\u001b[39;00m\n\u001b[0;32m      8\u001b[0m user_interests \u001b[38;5;241m=\u001b[39m {user[\u001b[38;5;124m'\u001b[39m\u001b[38;5;124m_id\u001b[39m\u001b[38;5;124m'\u001b[39m]: user[\u001b[38;5;124m'\u001b[39m\u001b[38;5;124minterests\u001b[39m\u001b[38;5;124m'\u001b[39m] \u001b[38;5;28;01mfor\u001b[39;00m user \u001b[38;5;129;01min\u001b[39;00m user_data}\n",
      "\u001b[1;31mTypeError\u001b[0m: 'set' object does not support item assignment"
     ]
    }
   ],
   "source": [
    "# Tạo ma trận tương tác người dùng - dự án\n",
    "interaction_matrix = defaultdict(set)\n",
    "for interaction in interaction_data:\n",
    "    user_id, item_id, rating = interaction['user_id'], interaction['item_id'], interaction['interaction']\n",
    "    interaction_matrix[user_id][item_id] = rating\n",
    "\n",
    "# Tạo ma trận sở thích người dùng\n",
    "user_interests = {user['_id']: user['interests'] for user in user_data}\n",
    "\n",
    "# Tạo ma trận thể loại của dự án\n",
    "item_genres = {item['_id']: item['genres'] for item in item_data}\n",
    "\n",
    "# Hàm tính độ tương tự cosine giữa hai người dùng\n",
    "def cosine_similarity_users(user1, user2):\n",
    "    common_items = set(interaction_matrix[user1].keys()) & set(interaction_matrix[user2].keys())\n",
    "    if not common_items:\n",
    "        return 0.0\n",
    "    vector1 = [user_interests[user1][genre] if genre in user_interests[user1] else 0 for genre in item_genres[list(common_items)[0]]]\n",
    "    vector2 = [user_interests[user2][genre] if genre in user_interests[user2] else 0 for genre in item_genres[list(common_items)[0]]]\n",
    "    return cosine_similarity([vector1], [vector2])[0][0]\n",
    "\n",
    "# Hàm khuyến nghị dự án cho người dùng dựa trên lọc cộng tác và lọc theo nội dung\n",
    "def recommend_projects(user_id, num_recommendations=5):\n",
    "    user_similarities = [(other_user, cosine_similarity_users(user_id, other_user)) for other_user in user_data if other_user['_id'] != user_id]\n",
    "\n",
    "    # Sắp xếp người dùng tăng dần theo độ tương tự\n",
    "    user_similarities.sort(key=itemgetter(1), reverse=True)\n",
    "\n",
    "    recommended_projects = set()\n",
    "    for other_user, similarity in user_similarities:\n",
    "        for item_id, rating in interaction_matrix[other_user].items():\n",
    "            # Lọc ra các dự án mà người dùng chưa tương tác\n",
    "            if item_id not in interaction_matrix[user_id]:\n",
    "                recommended_projects.add(item_id)\n",
    "                if len(recommended_projects) >= num_recommendations:\n",
    "                    return [project for project in item_data if project['_id'] in recommended_projects]\n",
    "\n",
    "# Chuyển đổi ma trận tương tác sang tuple có thể hashable\n",
    "interaction_matrix = {user_id: {item_id: rating for item_id, rating in user_data.items()} for user_id, user_data in interaction_matrix.items()}\n",
    "\n",
    "# Test: Khuyến nghị 5 dự án cho người dùng đầu tiên\n",
    "user_id_to_recommend = user_data[0]['_id']\n",
    "recommended_projects = recommend_projects(user_id_to_recommend, num_recommendations=5)\n",
    "\n",
    "print(\"Dự án được khuyến nghị cho người dùng {}:\".format(user_id_to_recommend))\n",
    "for project in recommended_projects:\n",
    "    print(\"- {}\".format(project['title']))"
   ]
  }
 ],
 "metadata": {
  "kernelspec": {
   "display_name": "Python 3",
   "language": "python",
   "name": "python3"
  },
  "language_info": {
   "codemirror_mode": {
    "name": "ipython",
    "version": 3
   },
   "file_extension": ".py",
   "mimetype": "text/x-python",
   "name": "python",
   "nbconvert_exporter": "python",
   "pygments_lexer": "ipython3",
   "version": "3.12.1"
  }
 },
 "nbformat": 4,
 "nbformat_minor": 2
}
