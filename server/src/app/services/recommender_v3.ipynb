{
 "cells": [
  {
   "cell_type": "code",
   "execution_count": 61,
   "metadata": {},
   "outputs": [],
   "source": [
    "import json\n",
    "import pandas as pd\n",
    "import numpy as np\n",
    "from sklearn.feature_extraction.text import TfidfVectorizer\n",
    "from sklearn.metrics.pairwise import linear_kernel\n",
    "from sklearn.neighbors import NearestNeighbors\n",
    "from sklearn.metrics import precision_score\n",
    "from sklearn.metrics.pairwise import cosine_similarity"
   ]
  },
  {
   "cell_type": "code",
   "execution_count": 62,
   "metadata": {},
   "outputs": [],
   "source": [
    "# Load user interests from JSON (replace 'your_interests.json' with your JSON file)\n",
    "with open('../data/users.json', 'r', encoding='utf-8') as json_file:\n",
    "    user_data = json.load(json_file)\n",
    "\n",
    "# Load item data from JSON (replace 'your_items.json' with your JSON file)\n",
    "with open('../data/campaigns.json', 'r', encoding='utf-8') as json_file:\n",
    "    items_data = json.load(json_file)\n",
    "\n",
    "with open('../data/interactions.json', 'r', encoding='utf-8') as json_file:\n",
    "    interaction_data = json.load(json_file)\n",
    "\n",
    "user_df = pd.DataFrame(user_data)\n",
    "items_df = pd.DataFrame(items_data)\n",
    "interactions_df = pd.DataFrame(interaction_data)\n"
   ]
  },
  {
   "cell_type": "code",
   "execution_count": 63,
   "metadata": {},
   "outputs": [],
   "source": [
    "# Merge order and order_detail to get purchase history\n",
    "like_history = pd.merge(interactions_df[interactions_df['like'] == 1], items_df, left_on='item_id', right_on='_id', how='inner')[['user_id', 'item_id']]\n",
    "\n",
    "# Create a user-item matrix (binary representation)\n",
    "user_item_matrix = like_history.pivot_table(index='user_id', columns='item_id', aggfunc='size', fill_value=0)\n",
    "\n",
    "# Calculate cosine similarity between users\n",
    "user_similarity = cosine_similarity(user_item_matrix)\n",
    "\n",
    "# Map actual user IDs to a range of integers\n",
    "user_id_to_index = {user_id: index for index, user_id in enumerate(user_item_matrix.index)}\n",
    "\n",
    "# Function to get similar users\n",
    "def get_similar_users(user_id, threshold=0.2):\n",
    "    if user_id not in user_id_to_index:\n",
    "        return []\n",
    "\n",
    "    user_index = user_id_to_index[user_id]\n",
    "    similar_users = user_similarity[user_index]\n",
    "    similar_users = [(i, score) for i, score in enumerate(similar_users) if i != user_index and score >= threshold]\n",
    "    similar_users.sort(key=lambda x: x[1], reverse=True)\n",
    "    return similar_users\n"
   ]
  },
  {
   "cell_type": "code",
   "execution_count": 64,
   "metadata": {},
   "outputs": [],
   "source": [
    "# Function to recommend products based on similar users\n",
    "def recommend_projects_by_user(user_id, num_recommendations=10, threshold=0.2):\n",
    "    similar_users = get_similar_users(user_id, threshold)\n",
    "\n",
    "    user_likes = set(like_history[like_history['user_id'] == user_id]['item_id'])\n",
    "\n",
    "    recommendations = []\n",
    "    for similar_user_index, similarity_score in similar_users:\n",
    "        similar_user_id = user_item_matrix.index[similar_user_index]\n",
    "        similar_user_likes = set(like_history[like_history['user_id'] == similar_user_id]['item_id'])\n",
    "        new_items = similar_user_likes - user_likes\n",
    "        recommendations.extend(new_items)\n",
    "\n",
    "        if len(recommendations) >= num_recommendations:\n",
    "            break\n",
    "\n",
    "    return recommendations[:num_recommendations]"
   ]
  },
  {
   "cell_type": "code",
   "execution_count": 65,
   "metadata": {},
   "outputs": [],
   "source": [
    "# Create a TF-IDF vectorizer to convert item genres into numerical vectors\n",
    "tfidf_vectorizer = TfidfVectorizer(stop_words='english')\n",
    "item_tfidf_matrix = tfidf_vectorizer.fit_transform(items_df['genres'].apply(lambda x: ' '.join(x)))\n",
    "\n",
    "# Compute the cosine similarity between item genres\n",
    "cosine_sim = linear_kernel(item_tfidf_matrix, item_tfidf_matrix)"
   ]
  },
  {
   "cell_type": "code",
   "execution_count": 66,
   "metadata": {},
   "outputs": [
    {
     "data": {
      "text/html": [
       "<style>#sk-container-id-3 {color: black;}#sk-container-id-3 pre{padding: 0;}#sk-container-id-3 div.sk-toggleable {background-color: white;}#sk-container-id-3 label.sk-toggleable__label {cursor: pointer;display: block;width: 100%;margin-bottom: 0;padding: 0.3em;box-sizing: border-box;text-align: center;}#sk-container-id-3 label.sk-toggleable__label-arrow:before {content: \"▸\";float: left;margin-right: 0.25em;color: #696969;}#sk-container-id-3 label.sk-toggleable__label-arrow:hover:before {color: black;}#sk-container-id-3 div.sk-estimator:hover label.sk-toggleable__label-arrow:before {color: black;}#sk-container-id-3 div.sk-toggleable__content {max-height: 0;max-width: 0;overflow: hidden;text-align: left;background-color: #f0f8ff;}#sk-container-id-3 div.sk-toggleable__content pre {margin: 0.2em;color: black;border-radius: 0.25em;background-color: #f0f8ff;}#sk-container-id-3 input.sk-toggleable__control:checked~div.sk-toggleable__content {max-height: 200px;max-width: 100%;overflow: auto;}#sk-container-id-3 input.sk-toggleable__control:checked~label.sk-toggleable__label-arrow:before {content: \"▾\";}#sk-container-id-3 div.sk-estimator input.sk-toggleable__control:checked~label.sk-toggleable__label {background-color: #d4ebff;}#sk-container-id-3 div.sk-label input.sk-toggleable__control:checked~label.sk-toggleable__label {background-color: #d4ebff;}#sk-container-id-3 input.sk-hidden--visually {border: 0;clip: rect(1px 1px 1px 1px);clip: rect(1px, 1px, 1px, 1px);height: 1px;margin: -1px;overflow: hidden;padding: 0;position: absolute;width: 1px;}#sk-container-id-3 div.sk-estimator {font-family: monospace;background-color: #f0f8ff;border: 1px dotted black;border-radius: 0.25em;box-sizing: border-box;margin-bottom: 0.5em;}#sk-container-id-3 div.sk-estimator:hover {background-color: #d4ebff;}#sk-container-id-3 div.sk-parallel-item::after {content: \"\";width: 100%;border-bottom: 1px solid gray;flex-grow: 1;}#sk-container-id-3 div.sk-label:hover label.sk-toggleable__label {background-color: #d4ebff;}#sk-container-id-3 div.sk-serial::before {content: \"\";position: absolute;border-left: 1px solid gray;box-sizing: border-box;top: 0;bottom: 0;left: 50%;z-index: 0;}#sk-container-id-3 div.sk-serial {display: flex;flex-direction: column;align-items: center;background-color: white;padding-right: 0.2em;padding-left: 0.2em;position: relative;}#sk-container-id-3 div.sk-item {position: relative;z-index: 1;}#sk-container-id-3 div.sk-parallel {display: flex;align-items: stretch;justify-content: center;background-color: white;position: relative;}#sk-container-id-3 div.sk-item::before, #sk-container-id-3 div.sk-parallel-item::before {content: \"\";position: absolute;border-left: 1px solid gray;box-sizing: border-box;top: 0;bottom: 0;left: 50%;z-index: -1;}#sk-container-id-3 div.sk-parallel-item {display: flex;flex-direction: column;z-index: 1;position: relative;background-color: white;}#sk-container-id-3 div.sk-parallel-item:first-child::after {align-self: flex-end;width: 50%;}#sk-container-id-3 div.sk-parallel-item:last-child::after {align-self: flex-start;width: 50%;}#sk-container-id-3 div.sk-parallel-item:only-child::after {width: 0;}#sk-container-id-3 div.sk-dashed-wrapped {border: 1px dashed gray;margin: 0 0.4em 0.5em 0.4em;box-sizing: border-box;padding-bottom: 0.4em;background-color: white;}#sk-container-id-3 div.sk-label label {font-family: monospace;font-weight: bold;display: inline-block;line-height: 1.2em;}#sk-container-id-3 div.sk-label-container {text-align: center;}#sk-container-id-3 div.sk-container {/* jupyter's `normalize.less` sets `[hidden] { display: none; }` but bootstrap.min.css set `[hidden] { display: none !important; }` so we also need the `!important` here to be able to override the default hidden behavior on the sphinx rendered scikit-learn.org. See: https://github.com/scikit-learn/scikit-learn/issues/21755 */display: inline-block !important;position: relative;}#sk-container-id-3 div.sk-text-repr-fallback {display: none;}</style><div id=\"sk-container-id-3\" class=\"sk-top-container\"><div class=\"sk-text-repr-fallback\"><pre>NearestNeighbors(algorithm=&#x27;brute&#x27;, metric=&#x27;cosine&#x27;, n_neighbors=9)</pre><b>In a Jupyter environment, please rerun this cell to show the HTML representation or trust the notebook. <br />On GitHub, the HTML representation is unable to render, please try loading this page with nbviewer.org.</b></div><div class=\"sk-container\" hidden><div class=\"sk-item\"><div class=\"sk-estimator sk-toggleable\"><input class=\"sk-toggleable__control sk-hidden--visually\" id=\"sk-estimator-id-3\" type=\"checkbox\" checked><label for=\"sk-estimator-id-3\" class=\"sk-toggleable__label sk-toggleable__label-arrow\">NearestNeighbors</label><div class=\"sk-toggleable__content\"><pre>NearestNeighbors(algorithm=&#x27;brute&#x27;, metric=&#x27;cosine&#x27;, n_neighbors=9)</pre></div></div></div></div></div>"
      ],
      "text/plain": [
       "NearestNeighbors(algorithm='brute', metric='cosine', n_neighbors=9)"
      ]
     },
     "execution_count": 66,
     "metadata": {},
     "output_type": "execute_result"
    }
   ],
   "source": [
    "def get_user_profile(user_id):\n",
    "    user_interests = user_df[user_df['_id'] == user_id]['interests'].values[0]\n",
    "\n",
    "    return tfidf_vectorizer.transform([' '.join(user_interests)])\n",
    "\n",
    "# Calculate the number of samples (items)\n",
    "n_samples = len(items_df)\n",
    "\n",
    "# Determine the appropriate value for n_neighbors\n",
    "n_neighbors = min(10, n_samples)\n",
    "\n",
    "# Create a Nearest Neighbors model based on cosine similarity\n",
    "nn_model = NearestNeighbors(n_neighbors=n_neighbors, metric='cosine', algorithm='brute')\n",
    "nn_model.fit(item_tfidf_matrix)"
   ]
  },
  {
   "cell_type": "code",
   "execution_count": 67,
   "metadata": {},
   "outputs": [],
   "source": [
    "# Function to get item recommendations for a user\n",
    "def get_recommend_projects_by_interests(user_id):\n",
    "    user_profile = get_user_profile(user_id)\n",
    "    \n",
    "    # Find similar items based on user's interests\n",
    "    item_indices = nn_model.kneighbors(user_profile, n_neighbors=n_neighbors)[1][0]\n",
    "    \n",
    "    # Filter out items that the user has already liked\n",
    "    recommended_items = [items_data[idx]['_id'] for idx in item_indices if items_data[idx]['_id'] ]\n",
    "    \n",
    "    return recommended_items"
   ]
  },
  {
   "cell_type": "code",
   "execution_count": 68,
   "metadata": {},
   "outputs": [],
   "source": [
    "def get_hybrid_recommendations(user_id, max=10):\n",
    "\n",
    "    data1 = recommend_projects_by_user(user_id)\n",
    "    data2 = get_recommend_projects_by_interests(user_id)\n",
    "\n",
    "    recommend_ids = np.unique(np.concatenate((data1, data2)))\n",
    "\n",
    "    # Get the liked items of the user\n",
    "    liked_items = interactions_df[(interactions_df['user_id'] == user_id)  & (interactions_df['like'] == 1)]['item_id'].tolist()\n",
    "\n",
    "    # Lấy thông tin chi tiết của các mục đề xuất sau khi loại bỏ các mục đã thích\n",
    "    recommended_items = [\n",
    "        item for item in items_data if item['_id'] in recommend_ids and item['_id'] not in liked_items\n",
    "    ]\n",
    "\n",
    "    return recommended_items"
   ]
  },
  {
   "cell_type": "code",
   "execution_count": 69,
   "metadata": {},
   "outputs": [
    {
     "name": "stdout",
     "output_type": "stream",
     "text": [
      "Item ID: 6598d9ddd9792d88b95cba98, Genres: ['education']\n",
      "Item ID: 6598e133c4ba9e96ba6fc5d6, Genres: ['community']\n",
      "Item ID: 6598e5ce45b53ae37c9607c4, Genres: ['community']\n",
      "Item ID: 659960c5a047c1353271e6eb, Genres: ['education']\n",
      "Item ID: 65996448a047c1353271e6fd, Genres: ['medical', 'child']\n",
      "Item ID: 6599f81451541653eb5d4cba, Genres: ['education']\n",
      "Item ID: 6599f92551541653eb5d4cc1, Genres: ['technology', 'community']\n"
     ]
    }
   ],
   "source": [
    "target_user_id = '650a5c3a0057dfad70f707a9'\n",
    "recommendations = get_hybrid_recommendations(target_user_id)\n",
    "# Print recommended items\n",
    "# print(\"Recommended Items:\", recommendations)\n",
    "for item in recommendations:\n",
    "    print(f\"Item ID: {item['_id']}, Genres: {item['genres']}\")"
   ]
  }
 ],
 "metadata": {
  "kernelspec": {
   "display_name": "Python 3",
   "language": "python",
   "name": "python3"
  },
  "language_info": {
   "codemirror_mode": {
    "name": "ipython",
    "version": 3
   },
   "file_extension": ".py",
   "mimetype": "text/x-python",
   "name": "python",
   "nbconvert_exporter": "python",
   "pygments_lexer": "ipython3",
   "version": "3.11.5"
  }
 },
 "nbformat": 4,
 "nbformat_minor": 2
}
