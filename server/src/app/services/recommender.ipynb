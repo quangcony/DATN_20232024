{
 "cells": [
  {
   "cell_type": "code",
   "execution_count": 100,
   "metadata": {},
   "outputs": [],
   "source": [
    "import json\n",
    "import pandas as pd\n",
    "import numpy as np\n",
    "from sklearn.feature_extraction.text import TfidfVectorizer\n",
    "from sklearn.metrics.pairwise import linear_kernel\n",
    "from sklearn.neighbors import NearestNeighbors\n",
    "from sklearn.metrics import precision_score"
   ]
  },
  {
   "cell_type": "code",
   "execution_count": 90,
   "metadata": {},
   "outputs": [
    {
     "name": "stdout",
     "output_type": "stream",
     "text": [
      "                        _id        orgName  \\\n",
      "0  64e807313dae5c7f6bf58b76   GlobalGiving   \n",
      "1  650a5c3a0057dfad70f707a9  Đại Nam Group   \n",
      "\n",
      "                                               about  \\\n",
      "0  Quỹ Vì Tầm Vóc Việt (VSF) là tổ chức phi lợi n...   \n",
      "1                                                NaN   \n",
      "\n",
      "                                               image  \\\n",
      "0  https://files.globalgiving.org/pfil/organ/189/...   \n",
      "1  https://dainambpo.vn/wp-content/uploads/2022/0...   \n",
      "\n",
      "                                            location  \\\n",
      "0                                   Ha Noi, Viet Nam   \n",
      "1  292 Ung Van Khiem, P.25, Binh Thanh, Ho Chi Mi...   \n",
      "\n",
      "                           website            fb       twitter  \\\n",
      "0   https:/​/​www.globalgiving.org  GlobalGiving  GlobalGiving   \n",
      "1            https://dainambpo.vn/     DaiNamBPO     DaiNamBPO   \n",
      "\n",
      "                    email password           noCampaign          slug  \\\n",
      "0  globalgiving@gmail.com   123456  {'$numberInt': '3'}  globalgiving   \n",
      "1     dainambpo@gmail.com   123456  {'$numberInt': '0'}     dainambpo   \n",
      "\n",
      "  verified              interests                                   liked  \\\n",
      "0     True  [technology, science]  [{'$oid': '64e4432ddd54f5512e3e184b'}]   \n",
      "1      NaN       [art, education]  [{'$oid': '6599425fe3e75cddc1a4884b'}]   \n",
      "\n",
      "                                             visited  \n",
      "0  [{'$oid': '64e87dc9809eb307fcb86b11'}, {'$oid'...  \n",
      "1             [{'$oid': '6599425fe3e75cddc1a4884b'}]  \n"
     ]
    }
   ],
   "source": [
    "# Load user interests from JSON (replace 'your_interests.json' with your JSON file)\n",
    "with open('../data/users.json', 'r', encoding='utf-8') as json_file:\n",
    "    user_data = json.load(json_file)\n",
    "\n",
    "# Load item data from JSON (replace 'your_items.json' with your JSON file)\n",
    "with open('../data/campaigns.json', 'r', encoding='utf-8') as json_file:\n",
    "    items_data = json.load(json_file)\n",
    "\n",
    "# Create a DataFrame for user interests\n",
    "user_df = pd.DataFrame(user_data)\n",
    "print(user_df)\n",
    "\n",
    "# Create a DataFrame for item data\n",
    "items_df = pd.DataFrame(items_data)\n"
   ]
  },
  {
   "cell_type": "code",
   "execution_count": 91,
   "metadata": {},
   "outputs": [],
   "source": [
    "# Filter data for the target user (replace with the target user's ID)\n",
    "# target_user_id = 1\n",
    "# target_user_interests = user_interests_df[user_interests_df['user_id'] == target_user_id]['interests'].values[0]\n",
    "\n",
    "# print(target_user_interests)"
   ]
  },
  {
   "cell_type": "code",
   "execution_count": 92,
   "metadata": {},
   "outputs": [
    {
     "name": "stdout",
     "output_type": "stream",
     "text": [
      "  (0, 1)\t1.0\n",
      "  (1, 0)\t1.0\n",
      "  (2, 0)\t1.0\n",
      "  (3, 0)\t0.6292275146695526\n",
      "  (3, 1)\t0.7772211620785797\n"
     ]
    }
   ],
   "source": [
    "# Create a TF-IDF vectorizer to convert item genres into numerical vectors\n",
    "tfidf_vectorizer = TfidfVectorizer(stop_words='english')\n",
    "item_tfidf_matrix = tfidf_vectorizer.fit_transform(items_df['genres'].apply(lambda x: ' '.join(x)))\n",
    "\n",
    "print(item_tfidf_matrix)"
   ]
  },
  {
   "cell_type": "code",
   "execution_count": 93,
   "metadata": {},
   "outputs": [
    {
     "name": "stdout",
     "output_type": "stream",
     "text": [
      "[[1.         0.         0.         0.77722116]\n",
      " [0.         1.         1.         0.62922751]\n",
      " [0.         1.         1.         0.62922751]\n",
      " [0.77722116 0.62922751 0.62922751 1.        ]]\n"
     ]
    }
   ],
   "source": [
    "# Compute the cosine similarity between item genres and the user's interests\n",
    "# cosine_sim = linear_kernel(item_tfidf_matrix, tfidf_vectorizer.transform([target_user_interests]))\n",
    "\n",
    "# Compute the cosine similarity between item genres\n",
    "cosine_sim = linear_kernel(item_tfidf_matrix, item_tfidf_matrix)\n",
    "print(cosine_sim)\n",
    "\n"
   ]
  },
  {
   "cell_type": "code",
   "execution_count": 94,
   "metadata": {},
   "outputs": [
    {
     "data": {
      "text/html": [
       "<style>#sk-container-id-13 {color: black;}#sk-container-id-13 pre{padding: 0;}#sk-container-id-13 div.sk-toggleable {background-color: white;}#sk-container-id-13 label.sk-toggleable__label {cursor: pointer;display: block;width: 100%;margin-bottom: 0;padding: 0.3em;box-sizing: border-box;text-align: center;}#sk-container-id-13 label.sk-toggleable__label-arrow:before {content: \"▸\";float: left;margin-right: 0.25em;color: #696969;}#sk-container-id-13 label.sk-toggleable__label-arrow:hover:before {color: black;}#sk-container-id-13 div.sk-estimator:hover label.sk-toggleable__label-arrow:before {color: black;}#sk-container-id-13 div.sk-toggleable__content {max-height: 0;max-width: 0;overflow: hidden;text-align: left;background-color: #f0f8ff;}#sk-container-id-13 div.sk-toggleable__content pre {margin: 0.2em;color: black;border-radius: 0.25em;background-color: #f0f8ff;}#sk-container-id-13 input.sk-toggleable__control:checked~div.sk-toggleable__content {max-height: 200px;max-width: 100%;overflow: auto;}#sk-container-id-13 input.sk-toggleable__control:checked~label.sk-toggleable__label-arrow:before {content: \"▾\";}#sk-container-id-13 div.sk-estimator input.sk-toggleable__control:checked~label.sk-toggleable__label {background-color: #d4ebff;}#sk-container-id-13 div.sk-label input.sk-toggleable__control:checked~label.sk-toggleable__label {background-color: #d4ebff;}#sk-container-id-13 input.sk-hidden--visually {border: 0;clip: rect(1px 1px 1px 1px);clip: rect(1px, 1px, 1px, 1px);height: 1px;margin: -1px;overflow: hidden;padding: 0;position: absolute;width: 1px;}#sk-container-id-13 div.sk-estimator {font-family: monospace;background-color: #f0f8ff;border: 1px dotted black;border-radius: 0.25em;box-sizing: border-box;margin-bottom: 0.5em;}#sk-container-id-13 div.sk-estimator:hover {background-color: #d4ebff;}#sk-container-id-13 div.sk-parallel-item::after {content: \"\";width: 100%;border-bottom: 1px solid gray;flex-grow: 1;}#sk-container-id-13 div.sk-label:hover label.sk-toggleable__label {background-color: #d4ebff;}#sk-container-id-13 div.sk-serial::before {content: \"\";position: absolute;border-left: 1px solid gray;box-sizing: border-box;top: 0;bottom: 0;left: 50%;z-index: 0;}#sk-container-id-13 div.sk-serial {display: flex;flex-direction: column;align-items: center;background-color: white;padding-right: 0.2em;padding-left: 0.2em;position: relative;}#sk-container-id-13 div.sk-item {position: relative;z-index: 1;}#sk-container-id-13 div.sk-parallel {display: flex;align-items: stretch;justify-content: center;background-color: white;position: relative;}#sk-container-id-13 div.sk-item::before, #sk-container-id-13 div.sk-parallel-item::before {content: \"\";position: absolute;border-left: 1px solid gray;box-sizing: border-box;top: 0;bottom: 0;left: 50%;z-index: -1;}#sk-container-id-13 div.sk-parallel-item {display: flex;flex-direction: column;z-index: 1;position: relative;background-color: white;}#sk-container-id-13 div.sk-parallel-item:first-child::after {align-self: flex-end;width: 50%;}#sk-container-id-13 div.sk-parallel-item:last-child::after {align-self: flex-start;width: 50%;}#sk-container-id-13 div.sk-parallel-item:only-child::after {width: 0;}#sk-container-id-13 div.sk-dashed-wrapped {border: 1px dashed gray;margin: 0 0.4em 0.5em 0.4em;box-sizing: border-box;padding-bottom: 0.4em;background-color: white;}#sk-container-id-13 div.sk-label label {font-family: monospace;font-weight: bold;display: inline-block;line-height: 1.2em;}#sk-container-id-13 div.sk-label-container {text-align: center;}#sk-container-id-13 div.sk-container {/* jupyter's `normalize.less` sets `[hidden] { display: none; }` but bootstrap.min.css set `[hidden] { display: none !important; }` so we also need the `!important` here to be able to override the default hidden behavior on the sphinx rendered scikit-learn.org. See: https://github.com/scikit-learn/scikit-learn/issues/21755 */display: inline-block !important;position: relative;}#sk-container-id-13 div.sk-text-repr-fallback {display: none;}</style><div id=\"sk-container-id-13\" class=\"sk-top-container\"><div class=\"sk-text-repr-fallback\"><pre>NearestNeighbors(algorithm=&#x27;brute&#x27;, metric=&#x27;cosine&#x27;, n_neighbors=4)</pre><b>In a Jupyter environment, please rerun this cell to show the HTML representation or trust the notebook. <br />On GitHub, the HTML representation is unable to render, please try loading this page with nbviewer.org.</b></div><div class=\"sk-container\" hidden><div class=\"sk-item\"><div class=\"sk-estimator sk-toggleable\"><input class=\"sk-toggleable__control sk-hidden--visually\" id=\"sk-estimator-id-13\" type=\"checkbox\" checked><label for=\"sk-estimator-id-13\" class=\"sk-toggleable__label sk-toggleable__label-arrow\">NearestNeighbors</label><div class=\"sk-toggleable__content\"><pre>NearestNeighbors(algorithm=&#x27;brute&#x27;, metric=&#x27;cosine&#x27;, n_neighbors=4)</pre></div></div></div></div></div>"
      ],
      "text/plain": [
       "NearestNeighbors(algorithm='brute', metric='cosine', n_neighbors=4)"
      ]
     },
     "execution_count": 94,
     "metadata": {},
     "output_type": "execute_result"
    }
   ],
   "source": [
    "# Get the indices of items sorted by their similarity scores\n",
    "# item_scores = list(enumerate(cosine_sim.flatten()))\n",
    "# item_scores = sorted(item_scores, key=lambda x: x[1], reverse=True)\n",
    "\n",
    "# print(item_scores)\n",
    "\n",
    "# Create a user profile based on interests\n",
    "def get_user_profile(user_id):\n",
    "    user_interests = user_df[user_df['_id'] == user_id]['interests'].values[0]\n",
    "    # user_visited   = user_interests_df[user_interests_df['_id'] == user_id]['visited'].values[0]\n",
    "    # items_visited  = [item for item in items_df if item[\"id\"] in user_visited]\n",
    "    # items_genres   = [item[\"name\"] for item in result_items]\n",
    "    # consume_data = user_interests + user_visited\n",
    "\n",
    "    return tfidf_vectorizer.transform([' '.join(user_interests)])\n",
    "\n",
    "# Calculate the number of samples (items)\n",
    "n_samples = len(items_df)\n",
    "\n",
    "# Determine the appropriate value for n_neighbors\n",
    "n_neighbors = min(10, n_samples)\n",
    "\n",
    "# Create a Nearest Neighbors model based on cosine similarity\n",
    "nn_model = NearestNeighbors(n_neighbors=n_neighbors, metric='cosine', algorithm='brute')\n",
    "nn_model.fit(item_tfidf_matrix)"
   ]
  },
  {
   "cell_type": "code",
   "execution_count": 95,
   "metadata": {},
   "outputs": [],
   "source": [
    "# Extract the top N recommended items (you can change N as needed)\n",
    "# N = 10  # Change N to the number of recommendations you want\n",
    "# top_n_recommendations = item_scores[:N]\n",
    "\n",
    "# Function to get item recommendations for a user\n",
    "def get_item_recommendations(user_id):\n",
    "    user_profile = get_user_profile(user_id)\n",
    "    \n",
    "    # Find similar items based on user's interests\n",
    "    item_indices = nn_model.kneighbors(user_profile, n_neighbors=n_neighbors)[1][0]\n",
    "    \n",
    "    # Get the liked items of the user\n",
    "    liked_items = user_df[user_df['_id'] == user_id]['liked'].values[0]\n",
    "    \n",
    "    # Filter out items that the user has already liked\n",
    "    recommended_items = [items_data[idx] for idx in item_indices if items_data[idx]['_id'] not in liked_items]\n",
    "    \n",
    "    return recommended_items"
   ]
  },
  {
   "cell_type": "code",
   "execution_count": 98,
   "metadata": {},
   "outputs": [
    {
     "name": "stdout",
     "output_type": "stream",
     "text": [
      "[{'_id': '6598d9ddd9792d88b95cba98', 'ownerAddress': '0xa73B10dC969a376cF1F140e4E2C2ccea1b6d86eE', 'createdBy': {'$oid': '64e807313dae5c7f6bf58b76'}, 'title': 'Phẫu thuật khuyết tật vận động miễn phí cho bệnh nhi nghèo', 'description': 'Theo tài liệu hướng dẫn “Phát hiện sớm – can thiệp sớm khuyết tật trẻ em” do Bộ Y tế vừa ban hành năm 2023,: loại khuyết tật phổ biến nhất ở trẻ em trong điều tra tại cộng đồng là khuyết tật về vận động, chiếm 22,4% tổng số trẻ khuyết tật.', 'content': '<p>Khuyết tật vận động c&oacute; thể do nhiều nguy&ecirc;n nh&acirc;n g&acirc;y ra, trong đ&oacute; c&oacute; loại h&igrave;nh do bẩm sinh v&agrave; do tai nạn. Trong đ&oacute;, c&oacute; những loại h&igrave;nh khuyết tật vận động nhỏ, phổ biến c&oacute; thể kể đến bao gồm: hiện tượng co g&acirc;n g&oacute;t ch&acirc;n, d&iacute;nh ng&oacute;n ch&acirc;n, ng&oacute;n tay, hội chứng b&agrave;n ch&acirc;n bẹt, đứt cơ/g&acirc;n, v. v.</p>\\n<p>Đối với c&aacute;c trường hợp n&agrave;y, phẫu thuật l&agrave; phương ph&aacute;p điều trị hiệu quả gi&uacute;p cải thiện chức năng vận động, gi&uacute;p trẻ c&oacute; thể tự đi lại, sinh hoạt v&agrave; học tập b&igrave;nh thường. Tuy nhi&ecirc;n, nhiều em nhỏ c&oacute; ho&agrave;n cảnh kh&oacute; khăn kh&ocirc;ng c&oacute; tiền phẫu thuật để cải thiện t&igrave;nh trạng khuyết tật vận động. Điều n&agrave;y khiến c&aacute;c em kh&oacute; khăn trong di chuyển, vận động, chăm s&oacute;c bản th&acirc;n, học tập v&agrave; vui chơi với bạn b&egrave;.</p>', 'image': 'http://res.cloudinary.com/dfm0ldvwe/image/upload/v1704516059/ds8rk2khaouqi9yqpzwy.jpg', 'videoUrl': 'https://www.youtube.com/watch?v=Z3rOofQx01A', 'isDelete': False, 'deadline': {'$numberLong': '1706659200000'}, 'target': {'$numberDouble': '5.2'}, 'amountCollected': {'$numberInt': '0'}, 'tags': ['treem', 'dannang'], 'likeCount': {'$numberInt': '0'}, 'genres': ['education'], 'likedBy': [], 'status': 'active', 'location': {'type': 'Point', 'coordinates': [{'$numberDouble': '108.2202354299364'}, {'$numberDouble': '16.059935099999997'}]}, 'user': {'$oid': '64e807313dae5c7f6bf58b76'}, 'createdAt': {'$date': {'$numberLong': '1704516061819'}}, 'updatedAt': {'$date': {'$numberLong': '1704516621000'}}, 'slug': 'phau-thuat-khuyet-tat-van-dong-mien-phi-cho-benh-nhi-ngheo', '__v': {'$numberInt': '0'}}, {'_id': '6599425fe3e75cddc1a4884b', 'ownerAddress': '0x0f657Be1C7CEeF30dbf543B86fbfFbebfeDe499f', 'title': 'Mang Tết Đầy Ắp phủ khắp mọi miền', 'description': 'Dự án “Mang Tết đầy ắp phủ khắp mọi miền” sẽ bắt đầu gây quỹ từ ngày 18/12/2023 đến ngày 05/01/2024.\\nTổng số tiền quyên góp được, Quỹ Trò nghèo vùng cao sẽ cam kết phối hợp cùng Viettel trao tặng phần quà với giá trị tương ứng, đồng thời thực hiện giải ngân hỗ trợ tại 3 điểm trường còn nhiều khó khăn tại các tỉnh: Lào Cai, Lai Châu và Điện Biên trước thềm năm mới.', 'content': '<p>Tiếp nối h&agrave;nh tr&igrave;nh &ldquo;Chuyển động số&rdquo; Viettel Money ti&ecirc;n phong &ldquo;Phổ cập t&agrave;i ch&iacute;nh số to&agrave;n d&acirc;n&rdquo; sẽ c&ugrave;ng đồng h&agrave;nh với Nền tảng g&acirc;y quỹ trực tuyến GiveNow v&agrave; Quỹ Tr&ograve; ngh&egrave;o v&ugrave;ng cao triển khai chuyến xe mang Tết Đầy Ắp đến cho trẻ em tại những nơi đặc biệt kh&oacute; khăn Với số tiền quy&ecirc;n g&oacute;p được, Viettel cam kết đồng h&agrave;nh c&ugrave;ng c&aacute;c đơn vị trao tặng tận tay đến c&aacute;c bạn nhỏ nơi v&ugrave;ng s&acirc;u v&ugrave;ng xa.</p>\\n<p>Dự &aacute;n &ldquo;Mang Tết đầy ắp phủ khắp mọi miền&rdquo; sẽ bắt đầu g&acirc;y quỹ từ ng&agrave;y 18/12/2023 đến ng&agrave;y 05/01/2024.</p>\\n<p>Tổng số tiền quy&ecirc;n g&oacute;p được, Quỹ Tr&ograve; ngh&egrave;o v&ugrave;ng cao sẽ cam kết phối hợp c&ugrave;ng Viettel trao tặng phần qu&agrave; với gi&aacute; trị tương ứng, đồng thời thực hiện giải ng&acirc;n hỗ trợ tại 3 điểm trường c&ograve;n nhiều kh&oacute; khăn tại c&aacute;c tỉnh: L&agrave;o Cai, Lai Ch&acirc;u v&agrave; Điện Bi&ecirc;n trước thềm năm mới.</p>\\n<p>Những m&oacute;n qu&agrave; khi đến tay c&aacute;c c&aacute;c bạn nhỏ sẽ l&agrave;: 01 chiếc balo, 01 chiếc &aacute;o ấm, 01 chiếc mũ len c&ugrave;ng bộ qu&agrave; tặng văn ph&ograve;ng phẩm thiết yếu.</p>\\n<p>Nhờ sự gi&uacute;p đỡ của cộng đồng, Tết 2024 của c&aacute;c em sẽ trở n&ecirc;n thật ấm &aacute;p với những m&oacute;n qu&agrave; thiết thực, Viettel Money v&agrave; c&aacute;c đối t&aacute;c hy vọng đ&acirc;y sẽ l&agrave; nguồn động vi&ecirc;n tinh thần cho c&aacute;c bạn nhỏ, qua đ&oacute; g&oacute;p phần lan tỏa v&agrave; nh&acirc;n rộng nghĩa cử cao đẹp &ldquo;tương th&acirc;n tương &aacute;i&rdquo; của người d&acirc;n Việt Nam.</p>', 'image': 'http://res.cloudinary.com/dfm0ldvwe/image/upload/v1704542813/w4k0d3qcs9fhvjcvje0c.jpg', 'videoUrl': 'https://www.youtube.com/watch?v=XFLLCFNyifA', 'isDelete': False, 'deadline': {'$numberLong': '1708473600000'}, 'target': {'$numberDouble': '4.6'}, 'amountCollected': {'$numberDouble': '0.2'}, 'tags': ['tet', 'viettelmoney', 'treem'], 'likeCount': {'$numberInt': '1'}, 'genres': ['community', 'education'], 'likedBy': ['650a5c3a0057dfad70f707a9'], 'status': 'active', 'location': {'type': 'Point', 'coordinates': [{'$numberDouble': '105.8285908'}, {'$numberDouble': '21.0365377'}]}, 'user': {'$oid': '650a5c3a0057dfad70f707a9'}, 'createdAt': {'$date': {'$numberLong': '1704542815364'}}, 'updatedAt': {'$date': {'$numberLong': '1704593898194'}}, 'slug': 'mang-tet-day-ap-phu-khap-moi-mien', '__v': {'$numberInt': '1'}}, {'_id': '6598e133c4ba9e96ba6fc5d6', 'ownerAddress': '0xa73B10dC969a376cF1F140e4E2C2ccea1b6d86eE', 'createdBy': {'$oid': '64e807313dae5c7f6bf58b76'}, 'title': 'Gây Quỹ cho Vườn Xả', 'description': 'Vườn Xả là một không gian sinh hoạt chung, nằm tại phường Ea Tam, thành phố Buôn Ma Thuột. Là một dự án phi lợi nhuận, Vườn Xả tạo nên một nơi chốn cho người lưu trú kết nối với chính mình, với người khác và với thiên nhiên. Thực hành lắng nghe không phán xét, tinh thần thấu cảm và lòng trắc ẩn, người đến Vườn cùng tạo ra một không gian để an trú và chữa lành qua việc làm vườn, đóng đồ gỗ, nấu ăn, yoga, thiền, trò chuyện, thảo luận sách và sáng tạo nghệ thuật.', 'content': '<section class=\"elementor-section elementor-top-section elementor-element elementor-element-8a04f8e elementor-section-boxed elementor-section-height-default elementor-section-height-default\" data-id=\"8a04f8e\" data-element_type=\"section\">\\n<div class=\"elementor-container elementor-column-gap-default\">\\n<div class=\"elementor-column elementor-col-100 elementor-top-column elementor-element elementor-element-9925782\" data-id=\"9925782\" data-element_type=\"column\">\\n<div class=\"elementor-widget-wrap elementor-element-populated\">\\n<div class=\"elementor-element elementor-element-7103f8c elementor-widget elementor-widget-text-editor\" data-id=\"7103f8c\" data-element_type=\"widget\" data-widget_type=\"text-editor.default\">\\n<div class=\"elementor-widget-container\">\\n<p>Hiện nay, nguồn thu t&agrave;i ch&iacute;nh của Vườn đến từ đ&oacute;ng g&oacute;p tuỳ t&acirc;m của người lưu tr&uacute;, v&agrave; từ một phần nhỏ của học ph&iacute; của c&aacute;c kho&aacute; học (phần c&ograve;n lại được d&ugrave;ng l&agrave;m th&ugrave; lao cho c&aacute;c điều phối vi&ecirc;n của c&aacute;c kho&aacute; học để c&aacute;c bạn được trả c&ocirc;ng xứng đ&aacute;ng cho c&ocirc;ng sức v&agrave; chuy&ecirc;n m&ocirc;n của m&igrave;nh). Mặt kh&aacute;c, Vườn mong muốn giữ nguy&ecirc;n mức ph&iacute; hiện nay của c&aacute;c kho&aacute; học &ndash; thuộc mức thấp so với c&aacute;c kh&oacute;a tương tự tr&ecirc;n thị trường &ndash; để t&agrave;i ch&iacute;nh kh&ocirc;ng l&agrave; r&agrave;o cản cho người cần ch&uacute;ng.&nbsp;</p>\\n</div>\\n</div>\\n</div>\\n</div>\\n</div>\\n</section>\\n<section class=\"elementor-section elementor-top-section elementor-element elementor-element-81f85c6 elementor-section-boxed elementor-section-height-default elementor-section-height-default\" data-id=\"81f85c6\" data-element_type=\"section\">\\n<div class=\"elementor-container elementor-column-gap-default\">\\n<div class=\"elementor-column elementor-col-100 elementor-top-column elementor-element elementor-element-ee46f75\" data-id=\"ee46f75\" data-element_type=\"column\">\\n<div class=\"elementor-widget-wrap elementor-element-populated\">\\n<div class=\"elementor-element elementor-element-c6ed035 elementor-widget elementor-widget-text-editor\" data-id=\"c6ed035\" data-element_type=\"widget\" data-widget_type=\"text-editor.default\">\\n<div class=\"elementor-widget-container\">\\n<p>Do đ&oacute;, Vườn cần sự hỗ trợ của cộng đồng để c&oacute; thể tiếp tục vận h&agrave;nh bền vững, v&agrave; giữ được cuộc sống giản dị ở của m&igrave;nh (sửa chữa, tu bổ cơ sở vật chất, trợ cấp cho nh&acirc;n lực, nhu yếu phẩm cho người lưu tr&uacute; v&agrave; người tham gia kh&oacute;a học v.v&hellip;).</p>\\n<p><em>-&gt; Nếu bạn đ&atilde; từng đến Vườn lưu tr&uacute;, v&agrave; nhận r&otilde; được những lợi &iacute;ch an l&agrave;nh m&agrave; Vườn đ&atilde; mang đến cho bạn,</em></p>\\n<p><em>-&gt; Nếu bạn đ&atilde; từng tham gia những kh&oacute;a học chăm s&oacute;c sức khỏe tinh thần tại Vườn v&agrave; nhận được những thay đổi b&ecirc;n trong m&igrave;nh,</em></p>\\n<p><em>-&gt; Nếu bạn c&oacute; duy&ecirc;n đ&atilde; gh&eacute; đến Vườn v&agrave; nhận được những an y&ecirc;n, trong l&agrave;nh tại đ&acirc;y,&nbsp;</em></p>\\n<p><em>-&gt; Nếu bạn chưa c&oacute; dịp tới Vườn nhưng lu&ocirc;n gieo hy vọng được thụ hưởng v&agrave; kh&aacute;m ph&aacute; một kh&ocirc;ng gian như vậy,</em></p>\\n<p><em>-&gt; Nếu bạn đơn giản chỉ muốn tạo điều kiện để những người kh&aacute;c m&agrave; bạn kh&ocirc;ng quen biết, c&oacute; thể hưởng lợi lộc tinh thần từ Vườn,</em></p>\\n<p>Vườn mời bạn g&oacute;p phần ủng hộ t&agrave;i ch&iacute;nh cho Vườn.&nbsp;</p>\\n<p>Với niềm tin &ldquo;Khi một người an lạc, cả cộng đồng được hưởng lợi&rdquo;, Vườn Xả mong chờ sự tiếp sức của bạn.&nbsp;</p>\\n</div>\\n</div>\\n</div>\\n</div>\\n</div>\\n</section>', 'image': 'http://res.cloudinary.com/dfm0ldvwe/image/upload/v1704517937/e1hv8wrtzorg6yr0wtin.jpg', 'videoUrl': 'https://www.youtube.com/watch?v=Z3rOofQx01A', 'isDelete': False, 'deadline': {'$numberLong': '1706486400000'}, 'target': {'$numberDouble': '4.8'}, 'amountCollected': {'$numberInt': '0'}, 'tags': ['congdong'], 'likeCount': {'$numberInt': '0'}, 'genres': ['community'], 'likedBy': [], 'status': 'active', 'location': {'type': 'Point', 'coordinates': [{'$numberDouble': '108.2202354299364'}, {'$numberDouble': '16.059935099999997'}]}, 'user': {'$oid': '64e807313dae5c7f6bf58b76'}, 'createdAt': {'$date': {'$numberLong': '1704517939549'}}, 'updatedAt': {'$date': {'$numberLong': '1704554089342'}}, 'slug': 'gay-quy-cho-vuon-xa', '__v': {'$numberInt': '0'}}, {'_id': '6598e5ce45b53ae37c9607c4', 'ownerAddress': '0xa73B10dC969a376cF1F140e4E2C2ccea1b6d86eE', 'createdBy': {'$oid': '64e807313dae5c7f6bf58b76'}, 'title': 'Giúp đỡ mang lại cho em Khánh Hoàng điều trị vẹo cột sống', 'description': 'Hãy gặp em Hoàng, hiện nay em 6 tuổi sống tại Tỉnh Quảng Ngãi, bề ngoài em nhỏ nhắn chỉ như đứa trẻ khoảng 3 – 4 tuổi. Chú ý kỹ có thể thấy lưng bé bị gập cong và nhô lên, nhưng em luôn tinh nghịch với đôi mắt sáng trong veo. Em Hoàng di chuyển thoăn thoắt theo bố mẹ và tự mang theo chiếc ba lô nhỏ của mình.', 'content': '<p>Cha mẹ cũng chỉ l&agrave;m n&ocirc;ng, l&uacute;a l&agrave;m ra cũng chỉ đủ để gia đ&igrave;nh ăn, cha b&eacute; l&agrave;m th&ecirc;m c&aacute;c c&ocirc;ng việc tay ch&acirc;n th&ecirc;m để c&oacute; sinh hoạt ph&iacute; cho con c&aacute;i v&agrave; mua c&aacute;c nhu yếu phẩm kh&aacute;c. Ở nh&agrave; Ho&agrave;ng hiếu động lắm, em th&iacute;ch đi chơi với c&aacute;c bạn trai kh&aacute;c. Em kể với đ&ocirc;i mắt trong veo, b&eacute; th&iacute;ch nhất một bạn chơi chung v&igrave; bạn đ&oacute; mạnh, đ&aacute;nh thắng c&aacute;c bạn kh&aacute;c. Ho&agrave;ng nghịch nhưng lại rất ngoan, đi kh&aacute;m bệnh nhưng vẫn mang vở theo tập viết.</p>\\n<p>Sau khi thăm kh&aacute;m với b&aacute;c sĩ Thanh của bệnh viện Phục Hồi Chức Năng, b&aacute;c sĩ chẩn đo&aacute;n mức độ vẹo cột sống của Ho&agrave;ng đ&atilde; ở thể nặng, tuy nhi&ecirc;n, chưa đến mức để phẫu thuật. Hiện tại, em Ho&agrave;ng cần mang &aacute;o nẹp cột sống để tr&aacute;nh bị nặng hơn. Ngo&agrave;i ra, theo thời gian, cột sống của b&eacute; c&oacute; thể bớt cong hơn. Phẫu thuật l&agrave; phương &aacute;n cuối c&ugrave;ng nếu kh&ocirc;ng cải thiện, th&ecirc;m nữa n&oacute; c&oacute; nguy cơ dẫn đến c&aacute;c biến chứng kh&aacute;c.</p>\\n<p>V&agrave;o th&aacute;ng 07.2023 vừa qua, Ho&agrave;ng đ&atilde; được mang &aacute;o nẹp cột sống v&agrave; sẽ tiếp tục theo d&otilde;i định kỳ 3 th&aacute;ng. Con đường để chữa trị dị tật của Ho&agrave;ng c&ograve;n rất d&agrave;i, thật mong cậu b&eacute; c&oacute; thể được chữa trị để ph&aacute;t triển b&igrave;nh thường như c&aacute;c bạn.</p>', 'image': 'http://res.cloudinary.com/dfm0ldvwe/image/upload/v1704519116/wv0mwl12izazo3sjpyah.jpg', 'videoUrl': 'https://www.youtube.com/watch?v=Z3rOofQx01A', 'isDelete': False, 'deadline': {'$numberLong': '1708387200000'}, 'target': {'$numberDouble': '9.2'}, 'amountCollected': {'$numberInt': '0'}, 'tags': ['treem', 'congdong'], 'likeCount': {'$numberInt': '0'}, 'genres': ['community'], 'likedBy': [], 'status': 'active', 'location': {'type': 'Point', 'coordinates': [{'$numberDouble': '107.5863388'}, {'$numberDouble': '16.4639321'}]}, 'user': {'$oid': '64e807313dae5c7f6bf58b76'}, 'createdAt': {'$date': {'$numberLong': '1704519118828'}}, 'updatedAt': {'$date': {'$numberLong': '1704554146562'}}, 'slug': 'giup-do-mang-lai-cho-em-khanh-hoang-dieu-tri-veo-cot-song', '__v': {'$numberInt': '0'}}]\n"
     ]
    }
   ],
   "source": [
    "# Get the item IDs of the top recommended items\n",
    "# recommended_item_ids = [items_df['item_id'].iloc[i[0]] for i in top_n_recommendations]\n",
    "\n",
    "# Example: Get recommendations for a user (replace with the target user ID)\n",
    "target_user_id = '650a5c3a0057dfad70f707a9'\n",
    "recommendations = get_item_recommendations(target_user_id)\n",
    "\n",
    "print(recommendations)\n"
   ]
  },
  {
   "cell_type": "code",
   "execution_count": 99,
   "metadata": {},
   "outputs": [
    {
     "name": "stdout",
     "output_type": "stream",
     "text": [
      "Recommended Items:\n",
      "Item ID: 6598d9ddd9792d88b95cba98, Genres: ['education']\n",
      "Item ID: 6599425fe3e75cddc1a4884b, Genres: ['community', 'education']\n",
      "Item ID: 6598e133c4ba9e96ba6fc5d6, Genres: ['community']\n",
      "Item ID: 6598e5ce45b53ae37c9607c4, Genres: ['community']\n"
     ]
    }
   ],
   "source": [
    "# Print recommended item IDs\n",
    "# print(\"Recommended Item IDs:\", recommended_item_ids)\n",
    "\n",
    "# Print recommended items\n",
    "print(\"Recommended Items:\")\n",
    "for item in recommendations:\n",
    "    print(f\"Item ID: {item['_id']}, Genres: {item['genres']}\")\n"
   ]
  },
  {
   "cell_type": "code",
   "execution_count": 103,
   "metadata": {},
   "outputs": [
    {
     "name": "stdout",
     "output_type": "stream",
     "text": [
      "['6598d9ddd9792d88b95cba98', '6599425fe3e75cddc1a4884b', '6598e133c4ba9e96ba6fc5d6', '6598e5ce45b53ae37c9607c4']\n"
     ]
    }
   ],
   "source": [
    "#Danh gia do chinh xac cua mo hinh\n",
    "# Trích xuất nhãn thực tế và nhãn dự đoán từ dữ liệu\n",
    "items_id = [item['_id'] for item in items_data]\n",
    "recommended_id = [item['_id'] for item in recommendations]\n",
    "print(recommended_id)\n",
    "\n",
    "# actual_labels = data['actual_labels']\n",
    "# predicted_labels = data['predicted_labels']\n",
    "\n",
    "# Tính precision\n",
    "# precision = precision_score(actual_labels, predicted_labels)\n",
    "\n",
    "# print(f'Precision: {precision}')"
   ]
  }
 ],
 "metadata": {
  "kernelspec": {
   "display_name": "Python 3",
   "language": "python",
   "name": "python3"
  },
  "language_info": {
   "codemirror_mode": {
    "name": "ipython",
    "version": 3
   },
   "file_extension": ".py",
   "mimetype": "text/x-python",
   "name": "python",
   "nbconvert_exporter": "python",
   "pygments_lexer": "ipython3",
   "version": "3.12.1"
  },
  "orig_nbformat": 4
 },
 "nbformat": 4,
 "nbformat_minor": 2
}
