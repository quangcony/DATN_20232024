{
 "cells": [
  {
   "cell_type": "code",
   "execution_count": 17,
   "metadata": {},
   "outputs": [],
   "source": [
    "import json\n",
    "import pandas as pd\n",
    "import numpy as np\n",
    "from sklearn.feature_extraction.text import TfidfVectorizer\n",
    "from sklearn.metrics.pairwise import linear_kernel\n",
    "from sklearn.neighbors import NearestNeighbors"
   ]
  },
  {
   "cell_type": "code",
   "execution_count": 18,
   "metadata": {},
   "outputs": [
    {
     "name": "stdout",
     "output_type": "stream",
     "text": [
      "   user_id               interests       liked\n",
      "0        1  [hành động, adventure]  [102, 103]\n",
      "1        2       [comedy, romance]  [102, 105]\n",
      "2        3       [science fiction]       [104]\n",
      "   item_id                  genres\n",
      "0      101  [hành động, adventure]\n",
      "1      102       [comedy, romance]\n",
      "2      103  [hành động, adventure]\n",
      "3      104       [science fiction]\n",
      "4      105             [education]\n",
      "5      106               [romance]\n",
      "6      107             [adventure]\n",
      "7      108       [comedy, romance]\n",
      "8      109  [hành động, adventure]\n"
     ]
    }
   ],
   "source": [
    "# Load user interests from JSON (replace 'your_interests.json' with your JSON file)\n",
    "with open('../data/users.json', 'r', encoding='utf-8') as json_file:\n",
    "    user_data = json.load(json_file)\n",
    "\n",
    "# Load item data from JSON (replace 'your_items.json' with your JSON file)\n",
    "with open('../data/campaigns.json', 'r', encoding='utf-8') as json_file:\n",
    "    items_data = json.load(json_file)\n",
    "\n",
    "# Create a DataFrame for user interests\n",
    "user_df = pd.DataFrame(user_data)\n",
    "\n",
    "# Create a DataFrame for item data\n",
    "items_df = pd.DataFrame(items_data)\n",
    "\n",
    "print(user_df)\n",
    "print(items_df)\n"
   ]
  },
  {
   "cell_type": "code",
   "execution_count": 19,
   "metadata": {},
   "outputs": [],
   "source": [
    "# Filter data for the target user (replace with the target user's ID)\n",
    "# target_user_id = 1\n",
    "# target_user_interests = user_interests_df[user_interests_df['user_id'] == target_user_id]['interests'].values[0]\n",
    "\n",
    "# print(target_user_interests)"
   ]
  },
  {
   "cell_type": "code",
   "execution_count": 20,
   "metadata": {},
   "outputs": [
    {
     "name": "stdout",
     "output_type": "stream",
     "text": [
      "  (0, 0)\t0.5298570392092922\n",
      "  (0, 7)\t0.5996880514068805\n",
      "  (0, 4)\t0.5996880514068805\n",
      "  (1, 5)\t0.656138284657041\n",
      "  (1, 1)\t0.7546406770160988\n",
      "  (2, 0)\t0.5298570392092922\n",
      "  (2, 7)\t0.5996880514068805\n",
      "  (2, 4)\t0.5996880514068805\n",
      "  (3, 3)\t0.7071067811865476\n",
      "  (3, 6)\t0.7071067811865476\n",
      "  (4, 2)\t1.0\n",
      "  (5, 5)\t1.0\n",
      "  (6, 0)\t1.0\n",
      "  (7, 5)\t0.656138284657041\n",
      "  (7, 1)\t0.7546406770160988\n",
      "  (8, 0)\t0.5298570392092922\n",
      "  (8, 7)\t0.5996880514068805\n",
      "  (8, 4)\t0.5996880514068805\n"
     ]
    }
   ],
   "source": [
    "# Create a TF-IDF vectorizer to convert item genres into numerical vectors\n",
    "tfidf_vectorizer = TfidfVectorizer(stop_words='english')\n",
    "item_tfidf_matrix = tfidf_vectorizer.fit_transform(items_df['genres'].apply(lambda x: ' '.join(x)))\n",
    "\n",
    "print(item_tfidf_matrix)"
   ]
  },
  {
   "cell_type": "code",
   "execution_count": 21,
   "metadata": {},
   "outputs": [
    {
     "name": "stdout",
     "output_type": "stream",
     "text": [
      "[[1.         0.         1.         0.         0.         0.\n",
      "  0.52985704 0.         1.        ]\n",
      " [0.         1.         0.         0.         0.         0.65613828\n",
      "  0.         1.         0.        ]\n",
      " [1.         0.         1.         0.         0.         0.\n",
      "  0.52985704 0.         1.        ]\n",
      " [0.         0.         0.         1.         0.         0.\n",
      "  0.         0.         0.        ]\n",
      " [0.         0.         0.         0.         1.         0.\n",
      "  0.         0.         0.        ]\n",
      " [0.         0.65613828 0.         0.         0.         1.\n",
      "  0.         0.65613828 0.        ]\n",
      " [0.52985704 0.         0.52985704 0.         0.         0.\n",
      "  1.         0.         0.52985704]\n",
      " [0.         1.         0.         0.         0.         0.65613828\n",
      "  0.         1.         0.        ]\n",
      " [1.         0.         1.         0.         0.         0.\n",
      "  0.52985704 0.         1.        ]]\n"
     ]
    }
   ],
   "source": [
    "# Compute the cosine similarity between item genres and the user's interests\n",
    "# cosine_sim = linear_kernel(item_tfidf_matrix, tfidf_vectorizer.transform([target_user_interests]))\n",
    "\n",
    "# Compute the cosine similarity between item genres\n",
    "cosine_sim = linear_kernel(item_tfidf_matrix, item_tfidf_matrix)\n",
    "print(cosine_sim)\n",
    "\n"
   ]
  },
  {
   "cell_type": "code",
   "execution_count": 22,
   "metadata": {},
   "outputs": [
    {
     "data": {
      "text/html": [
       "<style>#sk-container-id-3 {color: black;}#sk-container-id-3 pre{padding: 0;}#sk-container-id-3 div.sk-toggleable {background-color: white;}#sk-container-id-3 label.sk-toggleable__label {cursor: pointer;display: block;width: 100%;margin-bottom: 0;padding: 0.3em;box-sizing: border-box;text-align: center;}#sk-container-id-3 label.sk-toggleable__label-arrow:before {content: \"▸\";float: left;margin-right: 0.25em;color: #696969;}#sk-container-id-3 label.sk-toggleable__label-arrow:hover:before {color: black;}#sk-container-id-3 div.sk-estimator:hover label.sk-toggleable__label-arrow:before {color: black;}#sk-container-id-3 div.sk-toggleable__content {max-height: 0;max-width: 0;overflow: hidden;text-align: left;background-color: #f0f8ff;}#sk-container-id-3 div.sk-toggleable__content pre {margin: 0.2em;color: black;border-radius: 0.25em;background-color: #f0f8ff;}#sk-container-id-3 input.sk-toggleable__control:checked~div.sk-toggleable__content {max-height: 200px;max-width: 100%;overflow: auto;}#sk-container-id-3 input.sk-toggleable__control:checked~label.sk-toggleable__label-arrow:before {content: \"▾\";}#sk-container-id-3 div.sk-estimator input.sk-toggleable__control:checked~label.sk-toggleable__label {background-color: #d4ebff;}#sk-container-id-3 div.sk-label input.sk-toggleable__control:checked~label.sk-toggleable__label {background-color: #d4ebff;}#sk-container-id-3 input.sk-hidden--visually {border: 0;clip: rect(1px 1px 1px 1px);clip: rect(1px, 1px, 1px, 1px);height: 1px;margin: -1px;overflow: hidden;padding: 0;position: absolute;width: 1px;}#sk-container-id-3 div.sk-estimator {font-family: monospace;background-color: #f0f8ff;border: 1px dotted black;border-radius: 0.25em;box-sizing: border-box;margin-bottom: 0.5em;}#sk-container-id-3 div.sk-estimator:hover {background-color: #d4ebff;}#sk-container-id-3 div.sk-parallel-item::after {content: \"\";width: 100%;border-bottom: 1px solid gray;flex-grow: 1;}#sk-container-id-3 div.sk-label:hover label.sk-toggleable__label {background-color: #d4ebff;}#sk-container-id-3 div.sk-serial::before {content: \"\";position: absolute;border-left: 1px solid gray;box-sizing: border-box;top: 0;bottom: 0;left: 50%;z-index: 0;}#sk-container-id-3 div.sk-serial {display: flex;flex-direction: column;align-items: center;background-color: white;padding-right: 0.2em;padding-left: 0.2em;position: relative;}#sk-container-id-3 div.sk-item {position: relative;z-index: 1;}#sk-container-id-3 div.sk-parallel {display: flex;align-items: stretch;justify-content: center;background-color: white;position: relative;}#sk-container-id-3 div.sk-item::before, #sk-container-id-3 div.sk-parallel-item::before {content: \"\";position: absolute;border-left: 1px solid gray;box-sizing: border-box;top: 0;bottom: 0;left: 50%;z-index: -1;}#sk-container-id-3 div.sk-parallel-item {display: flex;flex-direction: column;z-index: 1;position: relative;background-color: white;}#sk-container-id-3 div.sk-parallel-item:first-child::after {align-self: flex-end;width: 50%;}#sk-container-id-3 div.sk-parallel-item:last-child::after {align-self: flex-start;width: 50%;}#sk-container-id-3 div.sk-parallel-item:only-child::after {width: 0;}#sk-container-id-3 div.sk-dashed-wrapped {border: 1px dashed gray;margin: 0 0.4em 0.5em 0.4em;box-sizing: border-box;padding-bottom: 0.4em;background-color: white;}#sk-container-id-3 div.sk-label label {font-family: monospace;font-weight: bold;display: inline-block;line-height: 1.2em;}#sk-container-id-3 div.sk-label-container {text-align: center;}#sk-container-id-3 div.sk-container {/* jupyter's `normalize.less` sets `[hidden] { display: none; }` but bootstrap.min.css set `[hidden] { display: none !important; }` so we also need the `!important` here to be able to override the default hidden behavior on the sphinx rendered scikit-learn.org. See: https://github.com/scikit-learn/scikit-learn/issues/21755 */display: inline-block !important;position: relative;}#sk-container-id-3 div.sk-text-repr-fallback {display: none;}</style><div id=\"sk-container-id-3\" class=\"sk-top-container\"><div class=\"sk-text-repr-fallback\"><pre>NearestNeighbors(algorithm=&#x27;brute&#x27;, metric=&#x27;cosine&#x27;, n_neighbors=9)</pre><b>In a Jupyter environment, please rerun this cell to show the HTML representation or trust the notebook. <br />On GitHub, the HTML representation is unable to render, please try loading this page with nbviewer.org.</b></div><div class=\"sk-container\" hidden><div class=\"sk-item\"><div class=\"sk-estimator sk-toggleable\"><input class=\"sk-toggleable__control sk-hidden--visually\" id=\"sk-estimator-id-3\" type=\"checkbox\" checked><label for=\"sk-estimator-id-3\" class=\"sk-toggleable__label sk-toggleable__label-arrow\">NearestNeighbors</label><div class=\"sk-toggleable__content\"><pre>NearestNeighbors(algorithm=&#x27;brute&#x27;, metric=&#x27;cosine&#x27;, n_neighbors=9)</pre></div></div></div></div></div>"
      ],
      "text/plain": [
       "NearestNeighbors(algorithm='brute', metric='cosine', n_neighbors=9)"
      ]
     },
     "execution_count": 22,
     "metadata": {},
     "output_type": "execute_result"
    }
   ],
   "source": [
    "# Get the indices of items sorted by their similarity scores\n",
    "# item_scores = list(enumerate(cosine_sim.flatten()))\n",
    "# item_scores = sorted(item_scores, key=lambda x: x[1], reverse=True)\n",
    "\n",
    "# print(item_scores)\n",
    "\n",
    "# Create a user profile based on interests\n",
    "def get_user_profile(user_id):\n",
    "    user_interests = user_df[user_df['user_id'] == user_id]['interests'].values[0]\n",
    "    return tfidf_vectorizer.transform([' '.join(user_interests)])\n",
    "\n",
    "# Calculate the number of samples (items)\n",
    "n_samples = len(items_df)\n",
    "\n",
    "# Determine the appropriate value for n_neighbors\n",
    "n_neighbors = min(10, n_samples)\n",
    "\n",
    "# Create a Nearest Neighbors model based on cosine similarity\n",
    "nn_model = NearestNeighbors(n_neighbors=n_neighbors, metric='cosine', algorithm='brute')\n",
    "nn_model.fit(item_tfidf_matrix)"
   ]
  },
  {
   "cell_type": "code",
   "execution_count": 23,
   "metadata": {},
   "outputs": [],
   "source": [
    "# Extract the top N recommended items (you can change N as needed)\n",
    "# N = 10  # Change N to the number of recommendations you want\n",
    "# top_n_recommendations = item_scores[:N]\n",
    "\n",
    "# Function to get item recommendations for a user\n",
    "def get_item_recommendations(user_id):\n",
    "    user_profile = get_user_profile(user_id)\n",
    "    \n",
    "    # Find similar items based on user's interests\n",
    "    item_indices = nn_model.kneighbors(user_profile, n_neighbors=n_neighbors)[1][0]\n",
    "    \n",
    "    # Get the liked items of the user\n",
    "    liked_items = user_df[user_df['user_id'] == user_id]['liked'].values[0]\n",
    "    \n",
    "    # Filter out items that the user has already liked\n",
    "    # recommended_items = [items_df.iloc[idx] for idx in item_indices if items_df.iloc[idx]['item_id'] not in liked_items]\n",
    "    recommended_items = [items_data[idx] for idx in item_indices if items_data[idx]['item_id'] not in liked_items]\n",
    "\n",
    "    \n",
    "    return recommended_items"
   ]
  },
  {
   "cell_type": "code",
   "execution_count": 24,
   "metadata": {},
   "outputs": [
    {
     "name": "stdout",
     "output_type": "stream",
     "text": [
      "[{'item_id': 101, 'genres': ['hành động', 'adventure']}, {'item_id': 109, 'genres': ['hành động', 'adventure']}, {'item_id': 107, 'genres': ['adventure']}, {'item_id': 104, 'genres': ['science fiction']}, {'item_id': 105, 'genres': ['education']}, {'item_id': 106, 'genres': ['romance']}, {'item_id': 108, 'genres': ['comedy', 'romance']}]\n"
     ]
    }
   ],
   "source": [
    "# Get the item IDs of the top recommended items\n",
    "# recommended_item_ids = [items_df['item_id'].iloc[i[0]] for i in top_n_recommendations]\n",
    "\n",
    "# Example: Get recommendations for a user (replace with the target user ID)\n",
    "target_user_id = 1\n",
    "recommendations = get_item_recommendations(target_user_id)\n",
    "\n",
    "print(recommendations)\n"
   ]
  },
  {
   "cell_type": "code",
   "execution_count": 25,
   "metadata": {},
   "outputs": [
    {
     "name": "stdout",
     "output_type": "stream",
     "text": [
      "Recommended Items:\n",
      "Item ID: 101, Genres: ['hành động', 'adventure']\n",
      "Item ID: 109, Genres: ['hành động', 'adventure']\n",
      "Item ID: 107, Genres: ['adventure']\n",
      "Item ID: 104, Genres: ['science fiction']\n",
      "Item ID: 105, Genres: ['education']\n",
      "Item ID: 106, Genres: ['romance']\n",
      "Item ID: 108, Genres: ['comedy', 'romance']\n"
     ]
    }
   ],
   "source": [
    "# Print recommended item IDs\n",
    "# print(\"Recommended Item IDs:\", recommended_item_ids)\n",
    "\n",
    "# Print recommended items\n",
    "print(\"Recommended Items:\")\n",
    "for item in recommendations:\n",
    "    print(f\"Item ID: {item['item_id']}, Genres: {item['genres']}\")\n"
   ]
  }
 ],
 "metadata": {
  "kernelspec": {
   "display_name": "Python 3",
   "language": "python",
   "name": "python3"
  },
  "language_info": {
   "codemirror_mode": {
    "name": "ipython",
    "version": 3
   },
   "file_extension": ".py",
   "mimetype": "text/x-python",
   "name": "python",
   "nbconvert_exporter": "python",
   "pygments_lexer": "ipython3",
   "version": "3.11.4"
  },
  "orig_nbformat": 4
 },
 "nbformat": 4,
 "nbformat_minor": 2
}
